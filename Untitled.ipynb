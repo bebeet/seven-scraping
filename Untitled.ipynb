{
 "cells": [
  {
   "cell_type": "code",
   "execution_count": 3,
   "metadata": {},
   "outputs": [],
   "source": [
    "# Import data manipulation package\n",
    "import json, glob\n",
    "import pandas as pd\n",
    "import numpy as np\n",
    "\n",
    "## Import data visualization packages\n",
    "\n",
    "import seaborn as sns # Import seaborn\n",
    "import matplotlib\n",
    "import matplotlib.pyplot as plt\n",
    "from matplotlib import font_manager\n",
    "%matplotlib inline\n",
    "from collections import Counter\n",
    "\n",
    "#Set Thai font\n",
    "font_manager.fontManager.addfont('THSarabunChula-Regular.ttf')"
   ]
  },
  {
   "cell_type": "code",
   "execution_count": 10,
   "metadata": {},
   "outputs": [],
   "source": [
    "# Aggregrate Scraping Data\n",
    "data_list = []\n",
    "for file_name in glob.iglob('raw-data/onlybkk/*.json', recursive=True):\n",
    "    with open (file_name, \"r\") as f: data = json.loads(f.read())\n",
    "    data_list+=data\n",
    "\n",
    "df = pd.DataFrame(data_list)\n",
    "df = df.drop_duplicates(subset=['id'], keep='first')\n",
    "selected_province_list = [\"กรุงเทพมหานคร\"]\n",
    "df = df[df.province.isin(selected_province_list)]\n",
    "df.to_csv(\"seven_bkk_data.csv\", index=False)"
   ]
  },
  {
   "cell_type": "code",
   "execution_count": 11,
   "metadata": {},
   "outputs": [
    {
     "data": {
      "text/html": [
       "<div>\n",
       "<style scoped>\n",
       "    .dataframe tbody tr th:only-of-type {\n",
       "        vertical-align: middle;\n",
       "    }\n",
       "\n",
       "    .dataframe tbody tr th {\n",
       "        vertical-align: top;\n",
       "    }\n",
       "\n",
       "    .dataframe thead th {\n",
       "        text-align: right;\n",
       "    }\n",
       "</style>\n",
       "<table border=\"1\" class=\"dataframe\">\n",
       "  <thead>\n",
       "    <tr style=\"text-align: right;\">\n",
       "      <th></th>\n",
       "      <th>id</th>\n",
       "      <th>lat</th>\n",
       "      <th>lng</th>\n",
       "      <th>code</th>\n",
       "      <th>name</th>\n",
       "      <th>address</th>\n",
       "      <th>subdistrict</th>\n",
       "      <th>district</th>\n",
       "      <th>province</th>\n",
       "      <th>postcode</th>\n",
       "      <th>products</th>\n",
       "      <th>lineOA</th>\n",
       "      <th>tel</th>\n",
       "      <th>distance</th>\n",
       "      <th>renovate</th>\n",
       "      <th>direction</th>\n",
       "    </tr>\n",
       "  </thead>\n",
       "  <tbody>\n",
       "    <tr>\n",
       "      <th>0</th>\n",
       "      <td>224</td>\n",
       "      <td>13.714611</td>\n",
       "      <td>100.472126</td>\n",
       "      <td>224</td>\n",
       "      <td>วุฒากาศ-11</td>\n",
       "      <td>ถ.วุฒากาศ แขวงตลาดพลู เขตธนบุรี กรุงเทพมหานคร</td>\n",
       "      <td>ตลาดพลู</td>\n",
       "      <td>ธนบุรี</td>\n",
       "      <td>กรุงเทพมหานคร</td>\n",
       "      <td>10600</td>\n",
       "      <td>[{'id': 13, 'code': 'VF', 'name': 'ผักและผลไม้...</td>\n",
       "      <td>@983aoicd</td>\n",
       "      <td>02-472-6484,891-4922,091-002-0224</td>\n",
       "      <td>103.965994</td>\n",
       "      <td>False</td>\n",
       "      <td>https://www.google.com/maps/search/?api=1&amp;quer...</td>\n",
       "    </tr>\n",
       "    <tr>\n",
       "      <th>1</th>\n",
       "      <td>16089</td>\n",
       "      <td>13.711278</td>\n",
       "      <td>100.474490</td>\n",
       "      <td>16089</td>\n",
       "      <td>บางสะแกใน</td>\n",
       "      <td>แขวงตลาดพลู เขตธนบุรี กรุงเทพมหานคร</td>\n",
       "      <td>ตลาดพลู</td>\n",
       "      <td>ธนบุรี</td>\n",
       "      <td>กรุงเทพมหานคร</td>\n",
       "      <td>10600</td>\n",
       "      <td>[{'id': 13, 'code': 'VF', 'name': 'ผักและผลไม้...</td>\n",
       "      <td>NaN</td>\n",
       "      <td>091-001-6089</td>\n",
       "      <td>444.537739</td>\n",
       "      <td>False</td>\n",
       "      <td>https://www.google.com/maps/search/?api=1&amp;quer...</td>\n",
       "    </tr>\n",
       "    <tr>\n",
       "      <th>2</th>\n",
       "      <td>3645</td>\n",
       "      <td>13.711246</td>\n",
       "      <td>100.470977</td>\n",
       "      <td>3645</td>\n",
       "      <td>วุฒากาศ 27</td>\n",
       "      <td>ถ.วุฒากาศ แขวงตลาดพลู เขตธนบุรี กรุงเทพมหานคร</td>\n",
       "      <td>ตลาดพลู</td>\n",
       "      <td>ธนบุรี</td>\n",
       "      <td>กรุงเทพมหานคร</td>\n",
       "      <td>10600</td>\n",
       "      <td>[{'id': 13, 'code': 'VF', 'name': 'ผักและผลไม้...</td>\n",
       "      <td>@209zzaer</td>\n",
       "      <td>02-875-4018,091-002-3645</td>\n",
       "      <td>471.695844</td>\n",
       "      <td>False</td>\n",
       "      <td>https://www.google.com/maps/search/?api=1&amp;quer...</td>\n",
       "    </tr>\n",
       "    <tr>\n",
       "      <th>3</th>\n",
       "      <td>4613</td>\n",
       "      <td>13.712442</td>\n",
       "      <td>100.476984</td>\n",
       "      <td>4613</td>\n",
       "      <td>รัชดา 15</td>\n",
       "      <td>ซ.รัชดา 15 แขวงดาวคะนอง เขตธนบุรี กรุงเทพมหานคร</td>\n",
       "      <td>ดาวคะนอง</td>\n",
       "      <td>ธนบุรี</td>\n",
       "      <td>กรุงเทพมหานคร</td>\n",
       "      <td>10600</td>\n",
       "      <td>[{'id': 15, 'code': 'FM', 'name': 'เนื้อสัตว์แ...</td>\n",
       "      <td>@719uvqfw</td>\n",
       "      <td>02-878-8045-6,091-002-4613</td>\n",
       "      <td>516.469410</td>\n",
       "      <td>False</td>\n",
       "      <td>https://www.google.com/maps/search/?api=1&amp;quer...</td>\n",
       "    </tr>\n",
       "    <tr>\n",
       "      <th>4</th>\n",
       "      <td>10850</td>\n",
       "      <td>13.716958</td>\n",
       "      <td>100.477636</td>\n",
       "      <td>10850</td>\n",
       "      <td>รัชดา 17</td>\n",
       "      <td>ถ.รัชดาภิเษก(ท่าพระ-ตากสิน) แขวงตลาดพลู เขตธนบ...</td>\n",
       "      <td>ตลาดพลู</td>\n",
       "      <td>ธนบุรี</td>\n",
       "      <td>กรุงเทพมหานคร</td>\n",
       "      <td>10600</td>\n",
       "      <td>[{'id': 13, 'code': 'VF', 'name': 'ผักและผลไม้...</td>\n",
       "      <td>@932voque</td>\n",
       "      <td>091-001-0850</td>\n",
       "      <td>546.707614</td>\n",
       "      <td>False</td>\n",
       "      <td>https://www.google.com/maps/search/?api=1&amp;quer...</td>\n",
       "    </tr>\n",
       "  </tbody>\n",
       "</table>\n",
       "</div>"
      ],
      "text/plain": [
       "      id        lat         lng   code        name  \\\n",
       "0    224  13.714611  100.472126    224  วุฒากาศ-11   \n",
       "1  16089  13.711278  100.474490  16089   บางสะแกใน   \n",
       "2   3645  13.711246  100.470977   3645  วุฒากาศ 27   \n",
       "3   4613  13.712442  100.476984   4613    รัชดา 15   \n",
       "4  10850  13.716958  100.477636  10850    รัชดา 17   \n",
       "\n",
       "                                             address subdistrict district  \\\n",
       "0      ถ.วุฒากาศ แขวงตลาดพลู เขตธนบุรี กรุงเทพมหานคร     ตลาดพลู   ธนบุรี   \n",
       "1                แขวงตลาดพลู เขตธนบุรี กรุงเทพมหานคร     ตลาดพลู   ธนบุรี   \n",
       "2      ถ.วุฒากาศ แขวงตลาดพลู เขตธนบุรี กรุงเทพมหานคร     ตลาดพลู   ธนบุรี   \n",
       "3    ซ.รัชดา 15 แขวงดาวคะนอง เขตธนบุรี กรุงเทพมหานคร    ดาวคะนอง   ธนบุรี   \n",
       "4  ถ.รัชดาภิเษก(ท่าพระ-ตากสิน) แขวงตลาดพลู เขตธนบ...     ตลาดพลู   ธนบุรี   \n",
       "\n",
       "        province  postcode                                           products  \\\n",
       "0  กรุงเทพมหานคร     10600  [{'id': 13, 'code': 'VF', 'name': 'ผักและผลไม้...   \n",
       "1  กรุงเทพมหานคร     10600  [{'id': 13, 'code': 'VF', 'name': 'ผักและผลไม้...   \n",
       "2  กรุงเทพมหานคร     10600  [{'id': 13, 'code': 'VF', 'name': 'ผักและผลไม้...   \n",
       "3  กรุงเทพมหานคร     10600  [{'id': 15, 'code': 'FM', 'name': 'เนื้อสัตว์แ...   \n",
       "4  กรุงเทพมหานคร     10600  [{'id': 13, 'code': 'VF', 'name': 'ผักและผลไม้...   \n",
       "\n",
       "      lineOA                                tel    distance  renovate  \\\n",
       "0  @983aoicd  02-472-6484,891-4922,091-002-0224  103.965994     False   \n",
       "1        NaN                       091-001-6089  444.537739     False   \n",
       "2  @209zzaer           02-875-4018,091-002-3645  471.695844     False   \n",
       "3  @719uvqfw         02-878-8045-6,091-002-4613  516.469410     False   \n",
       "4  @932voque                       091-001-0850  546.707614     False   \n",
       "\n",
       "                                           direction  \n",
       "0  https://www.google.com/maps/search/?api=1&quer...  \n",
       "1  https://www.google.com/maps/search/?api=1&quer...  \n",
       "2  https://www.google.com/maps/search/?api=1&quer...  \n",
       "3  https://www.google.com/maps/search/?api=1&quer...  \n",
       "4  https://www.google.com/maps/search/?api=1&quer...  "
      ]
     },
     "execution_count": 11,
     "metadata": {},
     "output_type": "execute_result"
    }
   ],
   "source": [
    "file = \"seven_bkk_data.csv\"\n",
    "df = pd.read_csv(file)\n",
    "df.province.unique()\n",
    "df.head()"
   ]
  },
  {
   "cell_type": "code",
   "execution_count": 12,
   "metadata": {},
   "outputs": [
    {
     "data": {
      "text/plain": [
       "2225"
      ]
     },
     "execution_count": 12,
     "metadata": {},
     "output_type": "execute_result"
    }
   ],
   "source": [
    "len(df)"
   ]
  },
  {
   "cell_type": "code",
   "execution_count": 13,
   "metadata": {},
   "outputs": [
    {
     "data": {
      "text/plain": [
       "array(['กรุงเทพมหานคร'], dtype=object)"
      ]
     },
     "execution_count": 13,
     "metadata": {},
     "output_type": "execute_result"
    }
   ],
   "source": [
    "df.province.unique()"
   ]
  },
  {
   "cell_type": "code",
   "execution_count": null,
   "metadata": {},
   "outputs": [],
   "source": []
  }
 ],
 "metadata": {
  "kernelspec": {
   "display_name": "Python 3",
   "language": "python",
   "name": "python3"
  },
  "language_info": {
   "codemirror_mode": {
    "name": "ipython",
    "version": 3
   },
   "file_extension": ".py",
   "mimetype": "text/x-python",
   "name": "python",
   "nbconvert_exporter": "python",
   "pygments_lexer": "ipython3",
   "version": "3.7.3"
  }
 },
 "nbformat": 4,
 "nbformat_minor": 2
}
